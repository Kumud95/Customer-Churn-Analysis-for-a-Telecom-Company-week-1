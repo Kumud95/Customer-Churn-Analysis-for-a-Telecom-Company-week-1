{
 "cells": [
  {
   "cell_type": "code",
   "execution_count": null,
   "id": "7a426c48",
   "metadata": {},
   "outputs": [],
   "source": [
    "\n"
   ]
  }
 ],
 "metadata": {
  "language_info": {
   "name": "python"
  }
 },
 "nbformat": 4,
 "nbformat_minor": 5
}
